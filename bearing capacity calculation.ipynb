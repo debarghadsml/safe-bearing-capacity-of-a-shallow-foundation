{
 "cells": [
  {
   "cell_type": "markdown",
   "id": "db2bb92a",
   "metadata": {},
   "source": [
    "   # BEARING CAPACITY CALCULATION "
   ]
  },
  {
   "cell_type": "markdown",
   "id": "9196f2b0",
   "metadata": {},
   "source": [
    "# importing different library "
   ]
  },
  {
   "cell_type": "code",
   "execution_count": 1,
   "id": "95fb55fb",
   "metadata": {},
   "outputs": [],
   "source": [
    "import numpy as np\n",
    "import pandas as pd\n",
    "import matplotlib.pyplot as plt\n",
    "import seaborn as sns"
   ]
  },
  {
   "cell_type": "markdown",
   "id": "a3ade0ac",
   "metadata": {},
   "source": [
    "# input values"
   ]
  },
  {
   "cell_type": "markdown",
   "id": "085f2449",
   "metadata": {},
   "source": [
    "#### THE STRING INPUT SHOULD HAVE FIRST LETTER AS ALPHABET"
   ]
  },
  {
   "cell_type": "code",
   "execution_count": 2,
   "id": "daf7deba",
   "metadata": {},
   "outputs": [
    {
     "name": "stdout",
     "output_type": "stream",
     "text": [
      "SPECIFY YOUR DEPTH OF FOUDATION(m):-2\n",
      "ENTER YOUR SHAPE OF THE FOUNDATION:-Square\n",
      "ENTER THE WIDTH OF THE FOUNDATION:-2\n",
      "ENTER THE LENGTH OF THE FOUNDATION:-2\n",
      "ENTER THE TYPE OF SHEAR FAILURE:-General\n",
      "inclination of load on foundation:-0\n",
      "depth of water table:- 0\n",
      "Enter the type of the soil:-Cohesionless\n"
     ]
    }
   ],
   "source": [
    "Df = int(input('SPECIFY YOUR DEPTH OF FOUDATION(m):-'))\n",
    "SHAPE = str(input('ENTER YOUR SHAPE OF THE FOUNDATION:-'))\n",
    "B = int(input('ENTER THE WIDTH OF THE FOUNDATION:-'))\n",
    "L = int(input('ENTER THE LENGTH OF THE FOUNDATION:-'))\n",
    "ss_failure = str(input('ENTER THE TYPE OF SHEAR FAILURE:-'))\n",
    "alpha = int(input('inclination of load on foundation:-'))\n",
    "Dw = int(input('depth of water table:- '))\n",
    "ty = str(input('Enter the type of the soil:-'))"
   ]
  },
  {
   "cell_type": "markdown",
   "id": "5ad9a65d",
   "metadata": {},
   "source": [
    "# value of cohesion from spt test"
   ]
  },
  {
   "cell_type": "markdown",
   "id": "95cd5b66",
   "metadata": {},
   "source": [
    "cohesion = (graph value from CIRIA 143*penetration value)"
   ]
  },
  {
   "cell_type": "markdown",
   "id": "37eef659",
   "metadata": {},
   "source": [
    "# VALUE OF THE SOIL PARAMETERS OVER BASE OF FOUNDATION"
   ]
  },
  {
   "cell_type": "markdown",
   "id": "df96386d",
   "metadata": {},
   "source": [
    "### 1. 1ST LAYER"
   ]
  },
  {
   "cell_type": "code",
   "execution_count": 3,
   "id": "1e24988d",
   "metadata": {},
   "outputs": [
    {
     "name": "stdout",
     "output_type": "stream",
     "text": [
      "ENTER YOUR UNIT WEIGHT(kPa) VALUE OVER BASE OF THE FOUNDATION:-18\n",
      "ENTER THE COHESION(kPa) VALUE:-20\n",
      "ENTER THE ANGLE OF INTERNAL FRICTION VALUE IN DEGREE:-31\n",
      "ENTER THE DEPTH OF THE LAYER:-2\n"
     ]
    }
   ],
   "source": [
    "y_1 = int(input('ENTER YOUR UNIT WEIGHT(kPa) VALUE OVER BASE OF THE FOUNDATION:-'))\n",
    "c_1 = int(input('ENTER THE COHESION(kPa) VALUE:-'))\n",
    "phi_1 = int(input('ENTER THE ANGLE OF INTERNAL FRICTION VALUE IN DEGREE:-'))\n",
    "d_1 = int(input('ENTER THE DEPTH OF THE LAYER:-'))"
   ]
  },
  {
   "cell_type": "markdown",
   "id": "055e7b73",
   "metadata": {},
   "source": [
    "### 2. 2ND LAYER"
   ]
  },
  {
   "cell_type": "code",
   "execution_count": 4,
   "id": "ea46c96a",
   "metadata": {},
   "outputs": [
    {
     "name": "stdout",
     "output_type": "stream",
     "text": [
      "ENTER YOUR UNIT WEIGHT(kPa) VALUE OVER BASE OF THE FOUNDATION:-0\n",
      "ENTER THE COHESION(kPa) VALUE:-0\n",
      "ENTER THE ANGLE OF INTERNAL FRICTION VALUE IN DEGREE:-0\n",
      "ENTER THE DEPTH OF THE LAYER:-0\n"
     ]
    }
   ],
   "source": [
    "y_2 = int(input('ENTER YOUR UNIT WEIGHT(kPa) VALUE OVER BASE OF THE FOUNDATION:-'))\n",
    "c_2 = int(input('ENTER THE COHESION(kPa) VALUE:-'))\n",
    "phi_2 = int(input('ENTER THE ANGLE OF INTERNAL FRICTION VALUE IN DEGREE:-'))\n",
    "d_2 = int(input('ENTER THE DEPTH OF THE LAYER:-'))"
   ]
  },
  {
   "cell_type": "markdown",
   "id": "8fd88772",
   "metadata": {},
   "source": [
    "### 3. 3RD LAYER"
   ]
  },
  {
   "cell_type": "code",
   "execution_count": 5,
   "id": "6c17641b",
   "metadata": {},
   "outputs": [
    {
     "name": "stdout",
     "output_type": "stream",
     "text": [
      "ENTER YOUR UNIT WEIGHT(kPa) VALUE OVER BASE OF THE FOUNDATION:-0\n",
      "ENTER THE COHESION(kPa) VALUE:-0\n",
      "ENTER THE ANGLE OF INTERNAL FRICTION VALUE IN DEGREE:-0\n",
      "ENTER THE DEPTH OF THE LAYER:-0\n"
     ]
    }
   ],
   "source": [
    "y_3 = int(input('ENTER YOUR UNIT WEIGHT(kPa) VALUE OVER BASE OF THE FOUNDATION:-'))\n",
    "c_3 = int(input('ENTER THE COHESION(kPa) VALUE:-'))\n",
    "phi_3 = int(input('ENTER THE ANGLE OF INTERNAL FRICTION VALUE IN DEGREE:-'))\n",
    "d_3 = int(input('ENTER THE DEPTH OF THE LAYER:-'))"
   ]
  },
  {
   "cell_type": "markdown",
   "id": "49f8af24",
   "metadata": {},
   "source": [
    "# VALUE OF THE SOIL PARAMETERS BELWO BASE OF FOUNDATION"
   ]
  },
  {
   "cell_type": "markdown",
   "id": "7911ba97",
   "metadata": {},
   "source": [
    "### 1. 1ST LAYER"
   ]
  },
  {
   "cell_type": "code",
   "execution_count": 6,
   "id": "76e91796",
   "metadata": {},
   "outputs": [
    {
     "name": "stdout",
     "output_type": "stream",
     "text": [
      "ENTER YOUR UNIT WEIGHT(kPa) VALUE BELWO BASE OF THE FOUNDATION:-18\n",
      "ENTER THE COHESION(kPa) VALUE:-20\n",
      "ENTER THE ANGLE OF INTERNAL FRICTION VALUE IN DEGREE:-31\n",
      "ENTER THE DEPTH OF THE LAYER:-3\n"
     ]
    }
   ],
   "source": [
    "Y1 = int(input('ENTER YOUR UNIT WEIGHT(kPa) VALUE BELWO BASE OF THE FOUNDATION:-'))\n",
    "C1 = int(input('ENTER THE COHESION(kPa) VALUE:-'))\n",
    "PHI1 = int(input('ENTER THE ANGLE OF INTERNAL FRICTION VALUE IN DEGREE:-'))\n",
    "D1 = int(input('ENTER THE DEPTH OF THE LAYER:-'))"
   ]
  },
  {
   "cell_type": "markdown",
   "id": "058ad5c5",
   "metadata": {},
   "source": [
    "### 2. 2ND LAYER"
   ]
  },
  {
   "cell_type": "code",
   "execution_count": 7,
   "id": "ba85553c",
   "metadata": {},
   "outputs": [
    {
     "name": "stdout",
     "output_type": "stream",
     "text": [
      "ENTER YOUR UNIT WEIGHT(kPa) VALUE BELWO BASE OF THE FOUNDATION:-0\n",
      "ENTER THE COHESION(kPa) VALUE:-0\n",
      "ENTER THE ANGLE OF INTERNAL FRICTION VALUE IN DEGREE:-0\n",
      "ENTER THE DEPTH OF THE LAYER:-0\n"
     ]
    }
   ],
   "source": [
    "Y2 = int(input('ENTER YOUR UNIT WEIGHT(kPa) VALUE BELWO BASE OF THE FOUNDATION:-'))\n",
    "C2 = int(input('ENTER THE COHESION(kPa) VALUE:-'))\n",
    "PHI2 = int(input('ENTER THE ANGLE OF INTERNAL FRICTION VALUE IN DEGREE:-'))\n",
    "D2 = int(input('ENTER THE DEPTH OF THE LAYER:-'))"
   ]
  },
  {
   "cell_type": "markdown",
   "id": "21d7352c",
   "metadata": {},
   "source": [
    "### 3. 3RD LAYER"
   ]
  },
  {
   "cell_type": "code",
   "execution_count": 8,
   "id": "99210431",
   "metadata": {},
   "outputs": [
    {
     "name": "stdout",
     "output_type": "stream",
     "text": [
      "ENTER YOUR UNIT WEIGHT(kPa) VALUE BELWO BASE OF THE FOUNDATION:-0\n",
      "ENTER THE COHESION(kPa) VALUE:-0\n",
      "ENTER THE ANGLE OF INTERNAL FRICTION VALUE IN DEGREE:-0\n",
      "ENTER THE DEPTH OF THE LAYER:-0\n"
     ]
    }
   ],
   "source": [
    "Y3 = int(input('ENTER YOUR UNIT WEIGHT(kPa) VALUE BELWO BASE OF THE FOUNDATION:-'))\n",
    "C3 = int(input('ENTER THE COHESION(kPa) VALUE:-'))\n",
    "PHI3 = int(input('ENTER THE ANGLE OF INTERNAL FRICTION VALUE IN DEGREE:-'))\n",
    "D3 = int(input('ENTER THE DEPTH OF THE LAYER:-'))"
   ]
  },
  {
   "cell_type": "markdown",
   "id": "b18374cb",
   "metadata": {},
   "source": [
    "# IMPORTANT:- IF WATER TABLE IS SITUATED PLS SPECIFY THE EFFECTIVE UNIT WEIGHT"
   ]
  },
  {
   "cell_type": "markdown",
   "id": "df8baf92",
   "metadata": {},
   "source": [
    "# IMPORT THE DATASETS"
   ]
  },
  {
   "cell_type": "markdown",
   "id": "0eed7ec1",
   "metadata": {},
   "source": [
    "### 1. bearing capacity factor finding out"
   ]
  },
  {
   "cell_type": "code",
   "execution_count": 10,
   "id": "4e2d836e",
   "metadata": {},
   "outputs": [],
   "source": [
    "bearing_data = pd.read_csv(r'C:\\Users\\DEBARGHA SEN\\Desktop\\ROYAL HUSKONING\\GEOTECH\\bearing values.csv')"
   ]
  },
  {
   "cell_type": "code",
   "execution_count": 11,
   "id": "daa4a86e",
   "metadata": {},
   "outputs": [
    {
     "data": {
      "text/html": [
       "<div>\n",
       "<style scoped>\n",
       "    .dataframe tbody tr th:only-of-type {\n",
       "        vertical-align: middle;\n",
       "    }\n",
       "\n",
       "    .dataframe tbody tr th {\n",
       "        vertical-align: top;\n",
       "    }\n",
       "\n",
       "    .dataframe thead th {\n",
       "        text-align: right;\n",
       "    }\n",
       "</style>\n",
       "<table border=\"1\" class=\"dataframe\">\n",
       "  <thead>\n",
       "    <tr style=\"text-align: right;\">\n",
       "      <th></th>\n",
       "      <th>phi</th>\n",
       "      <th>Nc</th>\n",
       "      <th>Nq</th>\n",
       "      <th>Ny</th>\n",
       "    </tr>\n",
       "  </thead>\n",
       "  <tbody>\n",
       "    <tr>\n",
       "      <th>0</th>\n",
       "      <td>0</td>\n",
       "      <td>5.14</td>\n",
       "      <td>1.00</td>\n",
       "      <td>0.00</td>\n",
       "    </tr>\n",
       "    <tr>\n",
       "      <th>1</th>\n",
       "      <td>5</td>\n",
       "      <td>6.49</td>\n",
       "      <td>1.57</td>\n",
       "      <td>0.45</td>\n",
       "    </tr>\n",
       "    <tr>\n",
       "      <th>2</th>\n",
       "      <td>10</td>\n",
       "      <td>8.35</td>\n",
       "      <td>2.47</td>\n",
       "      <td>1.22</td>\n",
       "    </tr>\n",
       "    <tr>\n",
       "      <th>3</th>\n",
       "      <td>15</td>\n",
       "      <td>10.98</td>\n",
       "      <td>3.94</td>\n",
       "      <td>2.65</td>\n",
       "    </tr>\n",
       "    <tr>\n",
       "      <th>4</th>\n",
       "      <td>20</td>\n",
       "      <td>14.83</td>\n",
       "      <td>6.40</td>\n",
       "      <td>5.39</td>\n",
       "    </tr>\n",
       "    <tr>\n",
       "      <th>5</th>\n",
       "      <td>25</td>\n",
       "      <td>20.72</td>\n",
       "      <td>10.66</td>\n",
       "      <td>10.88</td>\n",
       "    </tr>\n",
       "    <tr>\n",
       "      <th>6</th>\n",
       "      <td>30</td>\n",
       "      <td>30.14</td>\n",
       "      <td>18.40</td>\n",
       "      <td>22.40</td>\n",
       "    </tr>\n",
       "    <tr>\n",
       "      <th>7</th>\n",
       "      <td>35</td>\n",
       "      <td>46.12</td>\n",
       "      <td>33.30</td>\n",
       "      <td>48.03</td>\n",
       "    </tr>\n",
       "    <tr>\n",
       "      <th>8</th>\n",
       "      <td>40</td>\n",
       "      <td>75.31</td>\n",
       "      <td>64.20</td>\n",
       "      <td>109.41</td>\n",
       "    </tr>\n",
       "    <tr>\n",
       "      <th>9</th>\n",
       "      <td>45</td>\n",
       "      <td>138.88</td>\n",
       "      <td>134.88</td>\n",
       "      <td>271.76</td>\n",
       "    </tr>\n",
       "    <tr>\n",
       "      <th>10</th>\n",
       "      <td>50</td>\n",
       "      <td>266.89</td>\n",
       "      <td>319.07</td>\n",
       "      <td>762.89</td>\n",
       "    </tr>\n",
       "  </tbody>\n",
       "</table>\n",
       "</div>"
      ],
      "text/plain": [
       "    phi      Nc      Nq      Ny\n",
       "0     0    5.14    1.00    0.00\n",
       "1     5    6.49    1.57    0.45\n",
       "2    10    8.35    2.47    1.22\n",
       "3    15   10.98    3.94    2.65\n",
       "4    20   14.83    6.40    5.39\n",
       "5    25   20.72   10.66   10.88\n",
       "6    30   30.14   18.40   22.40\n",
       "7    35   46.12   33.30   48.03\n",
       "8    40   75.31   64.20  109.41\n",
       "9    45  138.88  134.88  271.76\n",
       "10   50  266.89  319.07  762.89"
      ]
     },
     "execution_count": 11,
     "metadata": {},
     "output_type": "execute_result"
    }
   ],
   "source": [
    "bearing_data"
   ]
  },
  {
   "cell_type": "code",
   "execution_count": 12,
   "id": "1bb32742",
   "metadata": {},
   "outputs": [],
   "source": [
    "from scipy.interpolate import interp1d\n",
    "import math"
   ]
  },
  {
   "cell_type": "code",
   "execution_count": 13,
   "id": "9a56fa71",
   "metadata": {},
   "outputs": [
    {
     "data": {
      "text/plain": [
       "31.0"
      ]
     },
     "execution_count": 13,
     "metadata": {},
     "output_type": "execute_result"
    }
   ],
   "source": [
    "phi = ((PHI1*D1)+(PHI2*D2)+(PHI3*D3))/(D1+D2+D3)\n",
    "phi"
   ]
  },
  {
   "cell_type": "code",
   "execution_count": 14,
   "id": "c9d8f2ba",
   "metadata": {},
   "outputs": [
    {
     "data": {
      "text/plain": [
       "31.0"
      ]
     },
     "execution_count": 14,
     "metadata": {},
     "output_type": "execute_result"
    }
   ],
   "source": [
    "phi"
   ]
  },
  {
   "cell_type": "code",
   "execution_count": 15,
   "id": "a880181d",
   "metadata": {},
   "outputs": [
    {
     "name": "stdout",
     "output_type": "stream",
     "text": [
      "the value of phi is:-  31.0\n"
     ]
    }
   ],
   "source": [
    "if(ty == 'Cohesive'):\n",
    "    phi3 = phi    \n",
    "else:\n",
    "    if(phi>36):\n",
    "        phi3 = phi\n",
    "    elif(phi<29):\n",
    "        phi1 = np.tan(math.radians(phi))\n",
    "        phi2 = 0.667*phi1\n",
    "        phi3 = math.degrees(np.arctan(phi2))\n",
    "    else:\n",
    "        phi3 = phi\n",
    "    \n",
    "print('the value of phi is:- ' , phi3)"
   ]
  },
  {
   "cell_type": "code",
   "execution_count": 16,
   "id": "8c836f4f",
   "metadata": {},
   "outputs": [
    {
     "data": {
      "text/plain": [
       "31.0"
      ]
     },
     "execution_count": 16,
     "metadata": {},
     "output_type": "execute_result"
    }
   ],
   "source": [
    "phi3"
   ]
  },
  {
   "cell_type": "code",
   "execution_count": 17,
   "id": "237e1afd",
   "metadata": {},
   "outputs": [
    {
     "name": "stdout",
     "output_type": "stream",
     "text": [
      "Value of Nc at phi = 31.0 is 33.336\n"
     ]
    }
   ],
   "source": [
    "interplolate_phi = phi3\n",
    "y_interp = interp1d(bearing_data['phi'],bearing_data['Nc'])\n",
    "Nc=print(\"Value of Nc at phi = {} is\".format(interplolate_phi),y_interp(interplolate_phi))\n",
    "Nc = y_interp(interplolate_phi)"
   ]
  },
  {
   "cell_type": "code",
   "execution_count": 18,
   "id": "789fa5a5",
   "metadata": {},
   "outputs": [
    {
     "name": "stdout",
     "output_type": "stream",
     "text": [
      "Value of Nq at phi = 31.0 is 21.38\n"
     ]
    }
   ],
   "source": [
    "interplolate_phi = phi3\n",
    "y_interp = interp1d(bearing_data['phi'],bearing_data['Nq'])\n",
    "Nq=print(\"Value of Nq at phi = {} is\".format(interplolate_phi),y_interp(interplolate_phi))\n",
    "Nq = y_interp(interplolate_phi)"
   ]
  },
  {
   "cell_type": "code",
   "execution_count": 19,
   "id": "d988bea8",
   "metadata": {},
   "outputs": [
    {
     "name": "stdout",
     "output_type": "stream",
     "text": [
      "Value of Ny at phi = 31.0 is 27.526\n"
     ]
    }
   ],
   "source": [
    "interplolate_phi = phi3\n",
    "y_interp = interp1d(bearing_data['phi'],bearing_data['Ny'])\n",
    "Ny=print(\"Value of Ny at phi = {} is\".format(interplolate_phi),y_interp(interplolate_phi))\n",
    "Ny = y_interp(interplolate_phi)"
   ]
  },
  {
   "cell_type": "markdown",
   "id": "9b929a6f",
   "metadata": {},
   "source": [
    "### 2. SHAPE FACTOR CALCULATION"
   ]
  },
  {
   "cell_type": "code",
   "execution_count": 20,
   "id": "96bb0739",
   "metadata": {},
   "outputs": [
    {
     "name": "stdout",
     "output_type": "stream",
     "text": [
      "VALUE OF Sc:-  1.3\n",
      "VALUE OF Sq:-  1.2\n",
      "VALUE OF Sy:-  0.8\n"
     ]
    }
   ],
   "source": [
    "if(SHAPE == 'Square'):\n",
    "    a =1.3\n",
    "    b =1.2\n",
    "    cs =0.8\n",
    "elif(SHAPE == 'Circle'):\n",
    "    a =1.3\n",
    "    b =1.2\n",
    "    cs =0.6\n",
    "elif(SHAPE == 'Strip'):\n",
    "    a =1\n",
    "    b =1\n",
    "    cs =1\n",
    "elif(SHAPE == 'Rectangular'):\n",
    "    a = 1+(0.2*B/L)\n",
    "    b = 1+(0.2*B/L)\n",
    "    cs = 1-(0.4*B/L)\n",
    "else:\n",
    "    print('check the spelling of your shape first letter should  be capital')\n",
    "print('VALUE OF Sc:- ' , a)\n",
    "print('VALUE OF Sq:- ' , b)\n",
    "print('VALUE OF Sy:- ' , cs)"
   ]
  },
  {
   "cell_type": "markdown",
   "id": "15242600",
   "metadata": {},
   "source": [
    "### 3. depth factor calculation"
   ]
  },
  {
   "cell_type": "code",
   "execution_count": 21,
   "id": "64d693a4",
   "metadata": {},
   "outputs": [],
   "source": [
    "n_phi = math.tan((math.pi/4)+math.radians(phi3/2))**2"
   ]
  },
  {
   "cell_type": "code",
   "execution_count": 22,
   "id": "05457d6a",
   "metadata": {},
   "outputs": [
    {
     "data": {
      "text/plain": [
       "3.1240350974544246"
      ]
     },
     "execution_count": 22,
     "metadata": {},
     "output_type": "execute_result"
    }
   ],
   "source": [
    "n_phi"
   ]
  },
  {
   "cell_type": "code",
   "execution_count": 23,
   "id": "ef6d3373",
   "metadata": {},
   "outputs": [
    {
     "name": "stdout",
     "output_type": "stream",
     "text": [
      "Value of Dc:-  1.3534988032485782\n"
     ]
    }
   ],
   "source": [
    "Dc = 1+(0.2*Df*np.sqrt(n_phi)/B)\n",
    "print('Value of Dc:- ' , Dc)"
   ]
  },
  {
   "cell_type": "code",
   "execution_count": 83,
   "id": "8e2d9ffc",
   "metadata": {},
   "outputs": [
    {
     "name": "stdout",
     "output_type": "stream",
     "text": [
      "Value of Dq:-  1.176749401624289\n",
      "Value of Dy:-  1.176749401624289\n"
     ]
    }
   ],
   "source": [
    "if(phi3<10):\n",
    "    w=1\n",
    "    x=1\n",
    "else:\n",
    "    w = 1+(0.1*Df*np.sqrt(n_phi)/B)\n",
    "    x = 1+(0.1*Df*np.sqrt(n_phi)/B)\n",
    "Dq = print('Value of Dq:- ' , w)\n",
    "Dy = print('Value of Dy:- ' , x)\n",
    "Dq = w\n",
    "Dy = x"
   ]
  },
  {
   "cell_type": "markdown",
   "id": "9de4b2b0",
   "metadata": {},
   "source": [
    "### 4. inclination factor calculation"
   ]
  },
  {
   "cell_type": "code",
   "execution_count": 25,
   "id": "742763bb",
   "metadata": {},
   "outputs": [
    {
     "name": "stdout",
     "output_type": "stream",
     "text": [
      "Value of Ic:-  1.0\n"
     ]
    }
   ],
   "source": [
    "ic = (1-(alpha/90))*(1-(alpha/90))\n",
    "Ic = print('Value of Ic:- ' , ic)"
   ]
  },
  {
   "cell_type": "code",
   "execution_count": 26,
   "id": "a59ebae3",
   "metadata": {},
   "outputs": [
    {
     "name": "stdout",
     "output_type": "stream",
     "text": [
      "Value of Iq:-  1.0\n"
     ]
    }
   ],
   "source": [
    "iq = (1-(alpha/90))*(1-(alpha/90))\n",
    "Iq = print('Value of Iq:- ' , iq)"
   ]
  },
  {
   "cell_type": "code",
   "execution_count": 27,
   "id": "c03f49c8",
   "metadata": {},
   "outputs": [
    {
     "name": "stdout",
     "output_type": "stream",
     "text": [
      "Value of Iy:-  1.0\n"
     ]
    }
   ],
   "source": [
    "if(phi3 == 0):\n",
    "     iy = 1\n",
    "else:\n",
    "    iy = (1-(alpha/phi3))*(1-(alpha/phi3))\n",
    "Iy = print('Value of Iy:- ' , iy )  "
   ]
  },
  {
   "cell_type": "markdown",
   "id": "bab57cc9",
   "metadata": {},
   "source": [
    "# water table correction factor calculation"
   ]
  },
  {
   "cell_type": "code",
   "execution_count": 28,
   "id": "4cdf1693",
   "metadata": {},
   "outputs": [
    {
     "data": {
      "text/plain": [
       "4"
      ]
     },
     "execution_count": 28,
     "metadata": {},
     "output_type": "execute_result"
    }
   ],
   "source": [
    "total_depth = Df+B\n",
    "total_depth"
   ]
  },
  {
   "cell_type": "code",
   "execution_count": 29,
   "id": "868e4469",
   "metadata": {},
   "outputs": [
    {
     "name": "stdout",
     "output_type": "stream",
     "text": [
      "Water table correction factor: -  0.5\n"
     ]
    }
   ],
   "source": [
    "if(Dw>=total_depth):\n",
    "    wt = 1\n",
    "elif(Dw<=Df):\n",
    "    wt = 0.5\n",
    "else:\n",
    "    wt = 1-(((1-0.5)/B)*(total_depth-Dw))\n",
    "print('Water table correction factor: - ' , wt)"
   ]
  },
  {
   "cell_type": "markdown",
   "id": "8fee5eeb",
   "metadata": {},
   "source": [
    "# weighted cohesion calculation"
   ]
  },
  {
   "cell_type": "code",
   "execution_count": 30,
   "id": "7ea448bf",
   "metadata": {},
   "outputs": [],
   "source": [
    "cw = ((C1*D1)+(C2*D2)+(C3*D3))/(D1+D2+D3)"
   ]
  },
  {
   "cell_type": "code",
   "execution_count": 31,
   "id": "f0f906d8",
   "metadata": {},
   "outputs": [
    {
     "data": {
      "text/plain": [
       "20.0"
      ]
     },
     "execution_count": 31,
     "metadata": {},
     "output_type": "execute_result"
    }
   ],
   "source": [
    "cw"
   ]
  },
  {
   "cell_type": "code",
   "execution_count": 84,
   "id": "63a58527",
   "metadata": {},
   "outputs": [
    {
     "name": "stdout",
     "output_type": "stream",
     "text": [
      "the value of cohesion is:-  15.23857142857143\n"
     ]
    }
   ],
   "source": [
    "if(ty == 'Cohesive'):\n",
    "    c3 = cw\n",
    "elif(ty == 'Cohesionless'):\n",
    "    if(phi3>=36):\n",
    "        c3 = cw\n",
    "    elif(phi3<=29):\n",
    "        c3 = 0.6667*cw\n",
    "    else:\n",
    "        c3 = cw-((cw-( 0.6667*cw))*(36-phi3)/(36-29))\n",
    "else:\n",
    "    if(phi3>=36):\n",
    "        c3 = cw\n",
    "    elif(phi3<=29):\n",
    "        c3 = 0.6667*cw\n",
    "    else:\n",
    "        c3 = cw-((cw-( 0.6667*cw))*(36-phi3)/(36-29))\n",
    "    \n",
    "print('the value of cohesion is:- ' , c3)"
   ]
  },
  {
   "cell_type": "markdown",
   "id": "4fa566d9",
   "metadata": {},
   "source": [
    "# calculation of effective gamma for over base of footing"
   ]
  },
  {
   "cell_type": "code",
   "execution_count": 164,
   "id": "fc560d17",
   "metadata": {},
   "outputs": [],
   "source": [
    "if((d_1 == 0) &(d_2 == 0) &( d_3 == 0)):\n",
    "    gamma_eff3 = 0\n",
    "else:\n",
    "    gamma_eff3 = ((y_1*d_1)+(y_2*d_2)+(y_3*d_3))/(d_1+d_2+d_3)"
   ]
  },
  {
   "cell_type": "code",
   "execution_count": 165,
   "id": "dae3a584",
   "metadata": {},
   "outputs": [
    {
     "data": {
      "text/plain": [
       "2"
      ]
     },
     "execution_count": 165,
     "metadata": {},
     "output_type": "execute_result"
    }
   ],
   "source": [
    "d_1"
   ]
  },
  {
   "cell_type": "code",
   "execution_count": 166,
   "id": "1002b528",
   "metadata": {},
   "outputs": [
    {
     "data": {
      "text/plain": [
       "18.0"
      ]
     },
     "execution_count": 166,
     "metadata": {},
     "output_type": "execute_result"
    }
   ],
   "source": [
    "gamma_eff3"
   ]
  },
  {
   "cell_type": "markdown",
   "id": "79b5f784",
   "metadata": {},
   "source": [
    "# calculation of effective gamma for belwo base of footing"
   ]
  },
  {
   "cell_type": "code",
   "execution_count": 167,
   "id": "3b706f37",
   "metadata": {},
   "outputs": [],
   "source": [
    "gamma_eff2 = ((Y1*D1)+(Y2*D2)+(Y3*D3))/(D1+D2+D3)"
   ]
  },
  {
   "cell_type": "code",
   "execution_count": 168,
   "id": "6eebd2aa",
   "metadata": {},
   "outputs": [
    {
     "data": {
      "text/plain": [
       "18.0"
      ]
     },
     "execution_count": 168,
     "metadata": {},
     "output_type": "execute_result"
    }
   ],
   "source": [
    "gamma_eff2"
   ]
  },
  {
   "cell_type": "markdown",
   "id": "399109ab",
   "metadata": {},
   "source": [
    "## alert you have to look after here if your soil is mixed "
   ]
  },
  {
   "cell_type": "markdown",
   "id": "0616cf82",
   "metadata": {},
   "source": [
    "# bearing capacity calculation for cohesive or cohesionless soil"
   ]
  },
  {
   "cell_type": "markdown",
   "id": "b87383ed",
   "metadata": {},
   "source": [
    "### 1. Net bearing capacity"
   ]
  },
  {
   "cell_type": "code",
   "execution_count": 170,
   "id": "18a86a14",
   "metadata": {},
   "outputs": [],
   "source": [
    "ULTIMATE_BEARING_CAPACITY = ((c3*Nc*a*Dc*ic)+(gamma_eff1*Df*Nq*b*Dq*iq)+(0.5*gamma_eff2*B*Ny*cs*Dy*iy*wt)) "
   ]
  },
  {
   "cell_type": "code",
   "execution_count": 171,
   "id": "ceea2362",
   "metadata": {},
   "outputs": [
    {
     "data": {
      "text/plain": [
       "3291.5610045769854"
      ]
     },
     "execution_count": 171,
     "metadata": {},
     "output_type": "execute_result"
    }
   ],
   "source": [
    "ULTIMATE_BEARING_CAPACITY"
   ]
  },
  {
   "cell_type": "code",
   "execution_count": 172,
   "id": "466991ed",
   "metadata": {},
   "outputs": [],
   "source": [
    "NET_ULTIMATE_BEARING_CAPACITY = ULTIMATE_BEARING_CAPACITY-(gamma_eff1*Df)"
   ]
  },
  {
   "cell_type": "code",
   "execution_count": 173,
   "id": "c0c95109",
   "metadata": {},
   "outputs": [
    {
     "data": {
      "text/plain": [
       "3219.5610045769854"
      ]
     },
     "execution_count": 173,
     "metadata": {},
     "output_type": "execute_result"
    }
   ],
   "source": [
    "NET_ULTIMATE_BEARING_CAPACITY"
   ]
  },
  {
   "cell_type": "code",
   "execution_count": 174,
   "id": "3a28df54",
   "metadata": {},
   "outputs": [],
   "source": [
    "NET_SAFE__BEARING_CAPACITY = NET_ULTIMATE_BEARING_CAPACITY/2.5"
   ]
  },
  {
   "cell_type": "code",
   "execution_count": 175,
   "id": "dbef0ff4",
   "metadata": {},
   "outputs": [
    {
     "data": {
      "text/plain": [
       "1287.8244018307942"
      ]
     },
     "execution_count": 175,
     "metadata": {},
     "output_type": "execute_result"
    }
   ],
   "source": [
    "NET_SAFE__BEARING_CAPACITY"
   ]
  },
  {
   "cell_type": "code",
   "execution_count": 176,
   "id": "7eed4635",
   "metadata": {},
   "outputs": [],
   "source": [
    "ULTIMATE_SAFE_BEARING_CAPACITY = NET_SAFE__BEARING_CAPACITY+((gamma_eff1*Df))"
   ]
  },
  {
   "cell_type": "code",
   "execution_count": 177,
   "id": "7a52dea0",
   "metadata": {},
   "outputs": [
    {
     "data": {
      "text/plain": [
       "1359.8244018307942"
      ]
     },
     "execution_count": 177,
     "metadata": {},
     "output_type": "execute_result"
    }
   ],
   "source": [
    "ULTIMATE_SAFE_BEARING_CAPACITY"
   ]
  },
  {
   "cell_type": "markdown",
   "id": "317d872d",
   "metadata": {},
   "source": [
    "# BEARING CAPACITY CALCULATION FOR MIXED SOIL"
   ]
  },
  {
   "cell_type": "markdown",
   "id": "642f4e79",
   "metadata": {},
   "source": [
    "### BEARING CAPACITY BY GENERAL SHEAR FAILURE"
   ]
  },
  {
   "cell_type": "code",
   "execution_count": 178,
   "id": "4007d41d",
   "metadata": {},
   "outputs": [],
   "source": [
    "gen_angle = 36\n",
    "loc_angle = 29"
   ]
  },
  {
   "cell_type": "code",
   "execution_count": 179,
   "id": "98870139",
   "metadata": {},
   "outputs": [],
   "source": [
    "Nc1 = 51.958"
   ]
  },
  {
   "cell_type": "code",
   "execution_count": 180,
   "id": "7a225cdd",
   "metadata": {},
   "outputs": [],
   "source": [
    "Nq1 = 39.48"
   ]
  },
  {
   "cell_type": "code",
   "execution_count": 181,
   "id": "27f13c11",
   "metadata": {},
   "outputs": [],
   "source": [
    "Ny1 = 60.306"
   ]
  },
  {
   "cell_type": "code",
   "execution_count": 182,
   "id": "3efcd6e0",
   "metadata": {},
   "outputs": [
    {
     "name": "stdout",
     "output_type": "stream",
     "text": [
      "Value of Ic:-  1.0\n"
     ]
    }
   ],
   "source": [
    "ic = (1-(alpha/90))*(1-(alpha/90))\n",
    "Ic = print('Value of Ic:- ' , ic)"
   ]
  },
  {
   "cell_type": "code",
   "execution_count": 183,
   "id": "5b6f7208",
   "metadata": {},
   "outputs": [
    {
     "name": "stdout",
     "output_type": "stream",
     "text": [
      "Value of Iq:-  1.0\n"
     ]
    }
   ],
   "source": [
    "iq = (1-(alpha/90))*(1-(alpha/90))\n",
    "Iq = print('Value of Iq:- ' , iq)"
   ]
  },
  {
   "cell_type": "code",
   "execution_count": 184,
   "id": "1b8197ee",
   "metadata": {},
   "outputs": [
    {
     "name": "stdout",
     "output_type": "stream",
     "text": [
      "Value of Iy:-  1.0\n"
     ]
    }
   ],
   "source": [
    "if(gen_angle == 0):\n",
    "     iy1 = 1\n",
    "else:\n",
    "    iy1 = (1-(alpha/gen_angle))*(1-(alpha/gen_angle))\n",
    "Iy = print('Value of Iy:- ' , iy )"
   ]
  },
  {
   "cell_type": "code",
   "execution_count": 185,
   "id": "5953651c",
   "metadata": {},
   "outputs": [],
   "source": [
    "n_phi1 = math.tan((math.pi/4)+math.radians(gen_angle/2))**2"
   ]
  },
  {
   "cell_type": "code",
   "execution_count": 186,
   "id": "ffd25b1d",
   "metadata": {},
   "outputs": [
    {
     "data": {
      "text/plain": [
       "3.851839996319182"
      ]
     },
     "execution_count": 186,
     "metadata": {},
     "output_type": "execute_result"
    }
   ],
   "source": [
    "n_phi1"
   ]
  },
  {
   "cell_type": "code",
   "execution_count": 187,
   "id": "3d3e9cf4",
   "metadata": {},
   "outputs": [
    {
     "name": "stdout",
     "output_type": "stream",
     "text": [
      "Value of Dc:-  1.39252210110103\n"
     ]
    }
   ],
   "source": [
    "Dc = 1+(0.2*Df*np.sqrt(n_phi1)/B)\n",
    "print('Value of Dc:- ' , Dc)"
   ]
  },
  {
   "cell_type": "code",
   "execution_count": 188,
   "id": "b8588fff",
   "metadata": {},
   "outputs": [
    {
     "name": "stdout",
     "output_type": "stream",
     "text": [
      "Value of Dq:-  1.1962610505505151\n",
      "Value of Dy:-  1.1962610505505151\n"
     ]
    }
   ],
   "source": [
    "if(gen_angle<10):\n",
    "    w=1\n",
    "    x=1\n",
    "else:\n",
    "    w = 1+(0.1*Df*np.sqrt(n_phi1)/B)\n",
    "    x = 1+(0.1*Df*np.sqrt(n_phi1)/B)\n",
    "Dq = print('Value of Dq:- ' , w)\n",
    "Dy = print('Value of Dy:- ' , x)\n",
    "Dq = w\n",
    "Dy = x"
   ]
  },
  {
   "cell_type": "code",
   "execution_count": 189,
   "id": "f9158155",
   "metadata": {},
   "outputs": [],
   "source": [
    "c_gen =cw"
   ]
  },
  {
   "cell_type": "code",
   "execution_count": 199,
   "id": "b3fcc238",
   "metadata": {},
   "outputs": [],
   "source": [
    "ULTIMATE_BEARING_CAPACITY_GEN = ((c_gen*Nc1*a*Dc*ic)+(gamma_eff3*Df*Nq1*b*Dq*iq)+(0.5*gamma_eff2*B*Ny1*cs*Dy*iy1*wt))"
   ]
  },
  {
   "cell_type": "code",
   "execution_count": 203,
   "id": "fea377e8",
   "metadata": {},
   "outputs": [
    {
     "data": {
      "text/plain": [
       "4440.855909850308"
      ]
     },
     "execution_count": 203,
     "metadata": {},
     "output_type": "execute_result"
    }
   ],
   "source": [
    "ULTIMATE_BEARING_CAPACITY_GEN"
   ]
  },
  {
   "cell_type": "code",
   "execution_count": 204,
   "id": "ff913332",
   "metadata": {},
   "outputs": [],
   "source": [
    "NET_ULTIMATE_BEARING_CAPACITY_GEN= ULTIMATE_BEARING_CAPACITY_GEN-(gamma_eff1*Df)"
   ]
  },
  {
   "cell_type": "code",
   "execution_count": 205,
   "id": "4b270992",
   "metadata": {},
   "outputs": [
    {
     "data": {
      "text/plain": [
       "4368.855909850308"
      ]
     },
     "execution_count": 205,
     "metadata": {},
     "output_type": "execute_result"
    }
   ],
   "source": [
    "NET_ULTIMATE_BEARING_CAPACITY_GEN"
   ]
  },
  {
   "cell_type": "code",
   "execution_count": 206,
   "id": "2c00e584",
   "metadata": {},
   "outputs": [],
   "source": [
    "NET_SAFE__BEARING_CAPACITY_GEN = NET_ULTIMATE_BEARING_CAPACITY_GEN/2.5"
   ]
  },
  {
   "cell_type": "code",
   "execution_count": 207,
   "id": "473923a9",
   "metadata": {},
   "outputs": [
    {
     "data": {
      "text/plain": [
       "1747.5423639401233"
      ]
     },
     "execution_count": 207,
     "metadata": {},
     "output_type": "execute_result"
    }
   ],
   "source": [
    "NET_SAFE__BEARING_CAPACITY_GEN"
   ]
  },
  {
   "cell_type": "markdown",
   "id": "4b98e296",
   "metadata": {},
   "source": [
    "### BEARING CAPACITY BY LOCAL SHEAR FAILURE"
   ]
  },
  {
   "cell_type": "code",
   "execution_count": 209,
   "id": "6ff2e4b0",
   "metadata": {},
   "outputs": [],
   "source": [
    "Nc2 = 28.256"
   ]
  },
  {
   "cell_type": "code",
   "execution_count": 210,
   "id": "7a4695d7",
   "metadata": {},
   "outputs": [],
   "source": [
    "Nq2 = 16.851999999999997"
   ]
  },
  {
   "cell_type": "code",
   "execution_count": 211,
   "id": "fab4c772",
   "metadata": {},
   "outputs": [],
   "source": [
    "Ny2 = 20.095999999999997"
   ]
  },
  {
   "cell_type": "code",
   "execution_count": 212,
   "id": "46715d0f",
   "metadata": {},
   "outputs": [
    {
     "name": "stdout",
     "output_type": "stream",
     "text": [
      "Value of Ic:-  1.0\n"
     ]
    }
   ],
   "source": [
    "ic = (1-(alpha/90))*(1-(alpha/90))\n",
    "Ic = print('Value of Ic:- ' , ic)"
   ]
  },
  {
   "cell_type": "code",
   "execution_count": 213,
   "id": "2700d7fb",
   "metadata": {},
   "outputs": [
    {
     "name": "stdout",
     "output_type": "stream",
     "text": [
      "Value of Iq:-  1.0\n"
     ]
    }
   ],
   "source": [
    "iq = (1-(alpha/90))*(1-(alpha/90))\n",
    "Iq = print('Value of Iq:- ' , iq)"
   ]
  },
  {
   "cell_type": "code",
   "execution_count": 214,
   "id": "b3cd182b",
   "metadata": {},
   "outputs": [
    {
     "name": "stdout",
     "output_type": "stream",
     "text": [
      "Value of Iy:-  1.0\n"
     ]
    }
   ],
   "source": [
    "if(gen_angle == 0):\n",
    "     iy2 = 1\n",
    "else:\n",
    "    iy2 = (1-(alpha/gen_angle))*(1-(alpha/loc_angle))\n",
    "Iy = print('Value of Iy:- ' , iy )"
   ]
  },
  {
   "cell_type": "code",
   "execution_count": 215,
   "id": "0a47064f",
   "metadata": {},
   "outputs": [],
   "source": [
    "n_phi2 = math.tan((math.pi/4)+math.radians(loc_angle/2))**2"
   ]
  },
  {
   "cell_type": "code",
   "execution_count": 216,
   "id": "732cb665",
   "metadata": {},
   "outputs": [
    {
     "data": {
      "text/plain": [
       "2.8820600667199865"
      ]
     },
     "execution_count": 216,
     "metadata": {},
     "output_type": "execute_result"
    }
   ],
   "source": [
    "n_phi2"
   ]
  },
  {
   "cell_type": "code",
   "execution_count": 217,
   "id": "b46125f7",
   "metadata": {},
   "outputs": [
    {
     "name": "stdout",
     "output_type": "stream",
     "text": [
      "Value of Dc:-  1.3395326238652179\n"
     ]
    }
   ],
   "source": [
    "Dc = 1+(0.2*Df*np.sqrt(n_phi2)/B)\n",
    "print('Value of Dc:- ' , Dc)"
   ]
  },
  {
   "cell_type": "code",
   "execution_count": 218,
   "id": "78a586a8",
   "metadata": {},
   "outputs": [
    {
     "name": "stdout",
     "output_type": "stream",
     "text": [
      "Value of Dq:-  1.169766311932609\n",
      "Value of Dy:-  1.169766311932609\n"
     ]
    }
   ],
   "source": [
    "if(loc_angle<10):\n",
    "    w=1\n",
    "    x=1\n",
    "else:\n",
    "    w = 1+(0.1*Df*np.sqrt(n_phi2)/B)\n",
    "    x = 1+(0.1*Df*np.sqrt(n_phi2)/B)\n",
    "Dq = print('Value of Dq:- ' , w)\n",
    "Dy = print('Value of Dy:- ' , x)\n",
    "Dq = w\n",
    "Dy = x"
   ]
  },
  {
   "cell_type": "code",
   "execution_count": 219,
   "id": "08ec3a93",
   "metadata": {},
   "outputs": [],
   "source": [
    "c_loc = cw*2/3"
   ]
  },
  {
   "cell_type": "code",
   "execution_count": 220,
   "id": "4bf5846c",
   "metadata": {},
   "outputs": [],
   "source": [
    "ULTIMATE_BEARING_CAPACITY_LOC = ((c_loc*Nc2*a*Dc*ic)+(gamma_eff3*Df*Nq2*b*Dq*iq)+(0.5*gamma_eff2*B*Ny2*cs*Dy*iy2*wt))"
   ]
  },
  {
   "cell_type": "code",
   "execution_count": 221,
   "id": "43f5eedf",
   "metadata": {},
   "outputs": [
    {
     "data": {
      "text/plain": [
       "1676.916039196656"
      ]
     },
     "execution_count": 221,
     "metadata": {},
     "output_type": "execute_result"
    }
   ],
   "source": [
    "ULTIMATE_BEARING_CAPACITY_LOC"
   ]
  },
  {
   "cell_type": "code",
   "execution_count": 222,
   "id": "788bf6bb",
   "metadata": {},
   "outputs": [],
   "source": [
    "NET_ULTIMATE_BEARING_CAPACITY_LOC= ULTIMATE_BEARING_CAPACITY_LOC-(gamma_eff1*Df)"
   ]
  },
  {
   "cell_type": "code",
   "execution_count": 223,
   "id": "7f9c7554",
   "metadata": {},
   "outputs": [
    {
     "data": {
      "text/plain": [
       "1604.916039196656"
      ]
     },
     "execution_count": 223,
     "metadata": {},
     "output_type": "execute_result"
    }
   ],
   "source": [
    "NET_ULTIMATE_BEARING_CAPACITY_LOC"
   ]
  },
  {
   "cell_type": "code",
   "execution_count": 224,
   "id": "99cb4129",
   "metadata": {},
   "outputs": [],
   "source": [
    "NET_SAFE__BEARING_CAPACITY_LOC = NET_ULTIMATE_BEARING_CAPACITY_LOC/2.5"
   ]
  },
  {
   "cell_type": "code",
   "execution_count": 225,
   "id": "2296b0f5",
   "metadata": {},
   "outputs": [
    {
     "data": {
      "text/plain": [
       "641.9664156786623"
      ]
     },
     "execution_count": 225,
     "metadata": {},
     "output_type": "execute_result"
    }
   ],
   "source": [
    "NET_SAFE__BEARING_CAPACITY_LOC"
   ]
  },
  {
   "cell_type": "markdown",
   "id": "ab5f9a75",
   "metadata": {},
   "source": [
    "# final calculation"
   ]
  },
  {
   "cell_type": "code",
   "execution_count": 226,
   "id": "38a4073f",
   "metadata": {},
   "outputs": [],
   "source": [
    "Nbc = (NET_SAFE__BEARING_CAPACITY_GEN - NET_SAFE__BEARING_CAPACITY_LOC)*(36-phi3)/(36-29)"
   ]
  },
  {
   "cell_type": "code",
   "execution_count": 227,
   "id": "28aac73e",
   "metadata": {},
   "outputs": [
    {
     "data": {
      "text/plain": [
       "789.6971059010436"
      ]
     },
     "execution_count": 227,
     "metadata": {},
     "output_type": "execute_result"
    }
   ],
   "source": [
    "Nbc"
   ]
  },
  {
   "cell_type": "code",
   "execution_count": 228,
   "id": "607e3f46",
   "metadata": {},
   "outputs": [],
   "source": [
    "dict1 = {'Net bearing capacity for general shear failure':NET_SAFE__BEARING_CAPACITY_GEN,\n",
    "        'Net safe bearing capacity for local shear failure':NET_SAFE__BEARING_CAPACITY_LOC,\n",
    "        'Net safe bearing capacity for given phi':Nbc}"
   ]
  },
  {
   "cell_type": "code",
   "execution_count": 229,
   "id": "152ce1fe",
   "metadata": {},
   "outputs": [],
   "source": [
    "final_df = pd.DataFrame(dict1,index = np.arange(1,2,1))"
   ]
  },
  {
   "cell_type": "code",
   "execution_count": 230,
   "id": "71676ba1",
   "metadata": {},
   "outputs": [
    {
     "data": {
      "text/html": [
       "<style type=\"text/css\">\n",
       "#T_75344_row0_col0, #T_75344_row0_col1, #T_75344_row0_col2 {\n",
       "  background-color: #a6cee3;\n",
       "  color: #000000;\n",
       "}\n",
       "</style>\n",
       "<table id=\"T_75344\">\n",
       "  <thead>\n",
       "    <tr>\n",
       "      <th class=\"blank level0\" >&nbsp;</th>\n",
       "      <th id=\"T_75344_level0_col0\" class=\"col_heading level0 col0\" >Net bearing capacity for general shear failure</th>\n",
       "      <th id=\"T_75344_level0_col1\" class=\"col_heading level0 col1\" >Net safe bearing capacity for local shear failure</th>\n",
       "      <th id=\"T_75344_level0_col2\" class=\"col_heading level0 col2\" >Net safe bearing capacity for given phi</th>\n",
       "    </tr>\n",
       "  </thead>\n",
       "  <tbody>\n",
       "    <tr>\n",
       "      <th id=\"T_75344_level0_row0\" class=\"row_heading level0 row0\" >1</th>\n",
       "      <td id=\"T_75344_row0_col0\" class=\"data row0 col0\" >1747.542364</td>\n",
       "      <td id=\"T_75344_row0_col1\" class=\"data row0 col1\" >641.966416</td>\n",
       "      <td id=\"T_75344_row0_col2\" class=\"data row0 col2\" >789.697106</td>\n",
       "    </tr>\n",
       "  </tbody>\n",
       "</table>\n"
      ],
      "text/plain": [
       "<pandas.io.formats.style.Styler at 0x1c55a6d3280>"
      ]
     },
     "execution_count": 230,
     "metadata": {},
     "output_type": "execute_result"
    }
   ],
   "source": [
    "final_df.style.background_gradient(cmap=\"Paired\")"
   ]
  }
 ],
 "metadata": {
  "kernelspec": {
   "display_name": "Python 3 (ipykernel)",
   "language": "python",
   "name": "python3"
  },
  "language_info": {
   "codemirror_mode": {
    "name": "ipython",
    "version": 3
   },
   "file_extension": ".py",
   "mimetype": "text/x-python",
   "name": "python",
   "nbconvert_exporter": "python",
   "pygments_lexer": "ipython3",
   "version": "3.10.9"
  }
 },
 "nbformat": 4,
 "nbformat_minor": 5
}
